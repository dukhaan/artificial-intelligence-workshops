{
  "nbformat": 4,
  "nbformat_minor": 0,
  "metadata": {
    "colab": {
      "provenance": []
    },
    "kernelspec": {
      "name": "python3",
      "display_name": "Python 3"
    },
    "language_info": {
      "name": "python"
    }
  },
  "cells": [
    {
      "cell_type": "code",
      "execution_count": 6,
      "metadata": {
        "colab": {
          "base_uri": "https://localhost:8080/"
        },
        "id": "3tYZGDEMSEez",
        "outputId": "000ef542-f0ba-4841-d177-8396b9f55433"
      },
      "outputs": [
        {
          "output_type": "stream",
          "name": "stdout",
          "text": [
            "Following is the Breadth-First Search\n",
            "0 3 4 1 7 6 5 2 "
          ]
        }
      ],
      "source": [
        "\n",
        "graph = {\n",
        "  '0' : ['3','4'],\n",
        "  '1' : ['0','6'],\n",
        "  '2' : ['5','6'],\n",
        "  '3' : ['1','7'],\n",
        "  '4' : ['6'],\n",
        "  '5' : ['6','7'],\n",
        "  '6' : ['4','2'],\n",
        "  '7' : ['5'],\n",
        "}\n",
        "\n",
        "visited = [] # List for visited nodes.\n",
        "queue = []     #Initialize a queue\n",
        "\n",
        "def bfs(visited, graph, node): #function for BFS\n",
        "  visited.append(node)\n",
        "  queue.append(node)\n",
        "\n",
        "  while queue:          # Creating loop to visit each node\n",
        "    m = queue.pop(0)\n",
        "    print (m, end = \" \")\n",
        "\n",
        "    for neighbour in graph[m]:\n",
        "      if neighbour not in visited:\n",
        "        visited.append(neighbour)\n",
        "        queue.append(neighbour)\n",
        "\n",
        "# Driver Code\n",
        "print(\"Following is the Breadth-First Search\")\n",
        "bfs(visited, graph, '0')    # function calling"
      ]
    }
  ]
}