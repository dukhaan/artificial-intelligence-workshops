{
  "nbformat": 4,
  "nbformat_minor": 0,
  "metadata": {
    "colab": {
      "provenance": []
    },
    "kernelspec": {
      "name": "python3",
      "display_name": "Python 3"
    },
    "language_info": {
      "name": "python"
    }
  },
  "cells": [
    {
      "cell_type": "code",
      "execution_count": 9,
      "metadata": {
        "id": "NRHy1WH-li8y",
        "colab": {
          "base_uri": "https://localhost:8080/"
        },
        "outputId": "a9f60dbe-42b2-4ac1-b80b-29341886aceb"
      },
      "outputs": [
        {
          "output_type": "stream",
          "name": "stdout",
          "text": [
            "Following is the Depth-First Search\n",
            "0\n",
            "3\n",
            "1\n",
            "6\n",
            "4\n",
            "2\n",
            "5\n",
            "7\n"
          ]
        }
      ],
      "source": [
        "# Using a Python dictionary to act as an adjacency list\n",
        "graph = {\n",
        "  '0' : ['3','4'],\n",
        "  '1' : ['0','6'],\n",
        "  '2' : ['5','6'],\n",
        "  '3' : ['1','7'],\n",
        "  '4' : ['6'],\n",
        "  '5' : ['6','7'],\n",
        "  '6' : ['4','2'],\n",
        "  '7' : ['5'],\n",
        "}\n",
        "\n",
        "visited = set() # Set to keep track of visited nodes of graph.\n",
        "\n",
        "def dfs(visited, graph, node):  #function for dfs\n",
        "    if node not in visited:\n",
        "        print (node)\n",
        "        visited.add(node)\n",
        "        for neighbour in graph[node]:\n",
        "          dfs(visited, graph, neighbour)\n",
        "\n",
        "\n",
        "# Driver Code\n",
        "print(\"Following is the Depth-First Search\")\n",
        "dfs(visited, graph, '0')"
      ]
    }
  ]
}