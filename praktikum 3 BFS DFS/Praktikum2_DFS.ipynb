{
  "nbformat": 4,
  "nbformat_minor": 0,
  "metadata": {
    "colab": {
      "provenance": []
    },
    "kernelspec": {
      "name": "python3",
      "display_name": "Python 3"
    },
    "language_info": {
      "name": "python"
    }
  },
  "cells": [
    {
      "cell_type": "code",
      "execution_count": 8,
      "metadata": {
        "id": "NRHy1WH-li8y",
        "colab": {
          "base_uri": "https://localhost:8080/"
        },
        "outputId": "ae85c6cc-1002-4b7b-8c26-5410d167406d"
      },
      "outputs": [
        {
          "output_type": "stream",
          "name": "stdout",
          "text": [
            "Following is the Depth-First Search\n",
            "1\n",
            "2\n",
            "5\n",
            "7\n",
            "9\n",
            "4\n",
            "8\n",
            "6\n",
            "3\n"
          ]
        }
      ],
      "source": [
        "# Using a Python dictionary to act as an adjacency list\n",
        "graph = {\n",
        "  '1' : ['2','3'],\n",
        "  '2' : ['5','4'],\n",
        "  '3' : ['4','6'],\n",
        "  '4' : ['5','7','8','6'],\n",
        "  '5' : ['7'],\n",
        "  '6' : ['8','9'],\n",
        "  '7' : ['9'],\n",
        "  '8' : ['9'],\n",
        "  '9' : []\n",
        "}\n",
        "\n",
        "visited = set() # Set to keep track of visited nodes of graph.\n",
        "\n",
        "def dfs(visited, graph, node):  #function for dfs\n",
        "    if node not in visited:\n",
        "        print (node)\n",
        "        visited.add(node)\n",
        "        for neighbour in graph[node]:\n",
        "          dfs(visited, graph, neighbour)\n",
        "\n",
        "\n",
        "# Driver Code\n",
        "print(\"Following is the Depth-First Search\")\n",
        "dfs(visited, graph, '1')"
      ]
    }
  ]
}