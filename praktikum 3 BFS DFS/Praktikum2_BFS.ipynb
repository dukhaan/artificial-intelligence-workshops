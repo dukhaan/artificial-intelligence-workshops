{
  "nbformat": 4,
  "nbformat_minor": 0,
  "metadata": {
    "colab": {
      "provenance": []
    },
    "kernelspec": {
      "name": "python3",
      "display_name": "Python 3"
    },
    "language_info": {
      "name": "python"
    }
  },
  "cells": [
    {
      "cell_type": "code",
      "execution_count": 4,
      "metadata": {
        "colab": {
          "base_uri": "https://localhost:8080/"
        },
        "id": "3tYZGDEMSEez",
        "outputId": "08510a2b-0f18-4387-9849-45a781d8d592"
      },
      "outputs": [
        {
          "output_type": "stream",
          "name": "stdout",
          "text": [
            "Following is the Breadth-First Search\n",
            "1 2 3 5 4 6 7 8 9 "
          ]
        }
      ],
      "source": [
        "\n",
        "graph = {\n",
        "  '1' : ['2','3'],\n",
        "  '2' : ['5','4'],\n",
        "  '3' : ['4','6'],\n",
        "  '4' : ['5','7','8','6'],\n",
        "  '5' : ['7'],\n",
        "  '6' : ['8','9'],\n",
        "  '7' : ['9'],\n",
        "  '8' : ['9'],\n",
        "  '9' : []\n",
        "}\n",
        "\n",
        "visited = [] # List for visited nodes.\n",
        "queue = []     #Initialize a queue\n",
        "\n",
        "def bfs(visited, graph, node): #function for BFS\n",
        "  visited.append(node)\n",
        "  queue.append(node)\n",
        "\n",
        "  while queue:          # Creating loop to visit each node\n",
        "    m = queue.pop(0)\n",
        "    print (m, end = \" \")\n",
        "\n",
        "    for neighbour in graph[m]:\n",
        "      if neighbour not in visited:\n",
        "        visited.append(neighbour)\n",
        "        queue.append(neighbour)\n",
        "\n",
        "# Driver Code\n",
        "print(\"Following is the Breadth-First Search\")\n",
        "bfs(visited, graph, '1')    # function calling"
      ]
    }
  ]
}