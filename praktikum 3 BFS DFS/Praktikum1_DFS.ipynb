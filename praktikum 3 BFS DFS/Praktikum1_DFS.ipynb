{
  "nbformat": 4,
  "nbformat_minor": 0,
  "metadata": {
    "colab": {
      "provenance": []
    },
    "kernelspec": {
      "name": "python3",
      "display_name": "Python 3"
    },
    "language_info": {
      "name": "python"
    }
  },
  "cells": [
    {
      "cell_type": "code",
      "execution_count": 6,
      "metadata": {
        "id": "NRHy1WH-li8y",
        "colab": {
          "base_uri": "https://localhost:8080/"
        },
        "outputId": "fc028e53-1255-4f5a-bb8c-1c106584954b"
      },
      "outputs": [
        {
          "output_type": "stream",
          "name": "stdout",
          "text": [
            "Following is the Depth-First Search\n",
            "A\n",
            "B\n",
            "H\n",
            "I\n",
            "C\n",
            "D\n",
            "F\n",
            "G\n",
            "E\n"
          ]
        }
      ],
      "source": [
        "# Using a Python dictionary to act as an adjacency list\n",
        "graph = {\n",
        "  'A' : ['B','C'],\n",
        "  'B' : ['H'],\n",
        "  'C' : ['D','E'],\n",
        "  'D' : ['F','G'],\n",
        "  'E' : ['I'],\n",
        "  'F' : ['H'],\n",
        "  'G' : ['I'],\n",
        "  'H' : ['I'],\n",
        "  'I' : []\n",
        "}\n",
        "\n",
        "visited = set() # Set to keep track of visited nodes of graph.\n",
        "\n",
        "def dfs(visited, graph, node):  #function for dfs\n",
        "    if node not in visited:\n",
        "        print (node)\n",
        "        visited.add(node)\n",
        "        for neighbour in graph[node]:\n",
        "          dfs(visited, graph, neighbour)\n",
        "\n",
        "\n",
        "# Driver Code\n",
        "print(\"Following is the Depth-First Search\")\n",
        "dfs(visited, graph, 'A')"
      ]
    }
  ]
}